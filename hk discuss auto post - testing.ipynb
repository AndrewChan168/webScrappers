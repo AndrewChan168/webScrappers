{
 "cells": [
  {
   "cell_type": "code",
   "execution_count": 1,
   "metadata": {},
   "outputs": [],
   "source": [
    "from selenium import webdriver\n",
    "\n",
    "browser = webdriver.Chrome(executable_path=r\"chromedriver.exe\")"
   ]
  },
  {
   "cell_type": "code",
   "execution_count": 2,
   "metadata": {},
   "outputs": [],
   "source": [
    "from selenium.webdriver.support.ui import WebDriverWait\n",
    "from selenium.webdriver.support import expected_conditions as EC\n",
    "from selenium.webdriver.common.by import By\n",
    "from selenium.common.exceptions import TimeoutException"
   ]
  },
  {
   "cell_type": "code",
   "execution_count": 60,
   "metadata": {},
   "outputs": [],
   "source": [
    "TIMEOUT = 5\n",
    "username = '廚房污濁的魚'\n",
    "password = 'HKBNBlowWater167!'"
   ]
  },
  {
   "cell_type": "code",
   "execution_count": 61,
   "metadata": {},
   "outputs": [],
   "source": [
    "browser.get('https://www.discuss.com.hk/logging.php?action=login')\n",
    "\n",
    "try:\n",
    "    element_present = EC.presence_of_element_located((By.NAME, 'username'))\n",
    "    WebDriverWait(browser, TIMEOUT).until(element_present)\n",
    "except TimeoutException:\n",
    "    print(\"Timed out waiting for main page to load\")\n",
    "else:\n",
    "    browser.find_element_by_name('username').send_keys(username)\n",
    "    browser.find_element_by_name('password').send_keys(password)\n",
    "    browser.find_element_by_name('loginsubmit').click()\n",
    "finally:\n",
    "    browser.get('https://www.discuss.com.hk')"
   ]
  },
  {
   "cell_type": "code",
   "execution_count": 62,
   "metadata": {},
   "outputs": [],
   "source": [
    "from selenium.common.exceptions import NoSuchElementException, ElementNotInteractableException, NoSuchAttributeException"
   ]
  },
  {
   "cell_type": "code",
   "execution_count": 63,
   "metadata": {},
   "outputs": [],
   "source": [
    "browser.get('https://computer.discuss.com.hk/forumdisplay.php?fid=115')\n",
    "\n",
    "post_id = 'thread_29003958'\n",
    "\n",
    "try:\n",
    "    element_present = EC.presence_of_element_located((By.CLASS_NAME, 'header-inner'))\n",
    "    WebDriverWait(browser, TIMEOUT).until(element_present)\n",
    "except TimeoutException:\n",
    "    print(\"Timed out waiting for sub-page to load\")\n",
    "    ### stop here and return self\n",
    "    #return self"
   ]
  },
  {
   "cell_type": "code",
   "execution_count": 64,
   "metadata": {},
   "outputs": [],
   "source": [
    "try:\n",
    "    link = browser.find_element_by_id(post_id).find_element_by_tag_name('a').get_attribute('href')\n",
    "    if link is None:\n",
    "        raise NoSuchAttributeException\n",
    "except NoSuchElementException:\n",
    "    print(\"Post with such post-ID was not found\")\n",
    "    ### stop here and return self\n",
    "    #return self\n",
    "except NoSuchAttributeException:\n",
    "    print(\"href attribute was not found in the tag\")\n",
    "    ### stop here and return self\n",
    "    #return self\n",
    "else:\n",
    "    browser.get(link.split('&')[0])"
   ]
  },
  {
   "cell_type": "code",
   "execution_count": 65,
   "metadata": {},
   "outputs": [],
   "source": [
    "try:\n",
    "    element_present = EC.presence_of_element_located((By.CLASS_NAME, 'start_btn_small_reply'))\n",
    "    WebDriverWait(browser, TIMEOUT).until(element_present)\n",
    "except TimeoutException:\n",
    "    print(\"Timed out waiting for post page to load\")\n",
    "else:\n",
    "    browser.find_element_by_class_name('start_btn_small_reply').click()\n",
    "    "
   ]
  },
  {
   "cell_type": "code",
   "execution_count": 66,
   "metadata": {},
   "outputs": [],
   "source": [
    "try:\n",
    "    element_present = EC.presence_of_element_located((By.ID, 'posteditor_iframe'))\n",
    "    WebDriverWait(browser, TIMEOUT).until(element_present)\n",
    "except TimeoutException:\n",
    "    print(\"Timed out waiting for reply page to load\")\n",
    "else:\n",
    "    browser.switch_to.frame(browser.find_element_by_id('posteditor_iframe'))\n",
    "    browser.find_element_by_tag_name('body').send_keys('可以問問香港寬頻')\n",
    "    browser.switch_to.default_content()"
   ]
  },
  {
   "cell_type": "code",
   "execution_count": null,
   "metadata": {},
   "outputs": [],
   "source": [
    "try:\n",
    "    element_present = EC.presence_of_element_located((By.Name, 'replysubmit'))\n",
    "    WebDriverWait(browser, TIMEOUT).until(element_present)\n",
    "except TimeoutException:\n",
    "    print('Timed out waiting for reply button to load')\n",
    "else:\n",
    "    browser.find_element_by_name('replysubmit').click()"
   ]
  },
  {
   "cell_type": "code",
   "execution_count": null,
   "metadata": {},
   "outputs": [],
   "source": []
  }
 ],
 "metadata": {
  "kernelspec": {
   "display_name": "Python 3",
   "language": "python",
   "name": "python3"
  },
  "language_info": {
   "codemirror_mode": {
    "name": "ipython",
    "version": 3
   },
   "file_extension": ".py",
   "mimetype": "text/x-python",
   "name": "python",
   "nbconvert_exporter": "python",
   "pygments_lexer": "ipython3",
   "version": "3.5.0"
  }
 },
 "nbformat": 4,
 "nbformat_minor": 4
}
