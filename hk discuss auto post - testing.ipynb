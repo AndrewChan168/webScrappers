{
 "cells": [
  {
   "cell_type": "code",
   "execution_count": 19,
   "metadata": {},
   "outputs": [],
   "source": [
    "from selenium import webdriver\n",
    "\n",
    "browser = webdriver.Chrome(executable_path=r\"chromedriver.exe\")\n",
    "browser.maximize_window()"
   ]
  },
  {
   "cell_type": "code",
   "execution_count": 20,
   "metadata": {},
   "outputs": [],
   "source": [
    "from selenium.webdriver.support.ui import WebDriverWait\n",
    "from selenium.webdriver.support import expected_conditions as EC\n",
    "from selenium.webdriver.common.by import By\n",
    "from selenium.common.exceptions import TimeoutException"
   ]
  },
  {
   "cell_type": "code",
   "execution_count": 21,
   "metadata": {},
   "outputs": [],
   "source": [
    "TIMEOUT = 5\n",
    "username = '廚房污濁的魚'\n",
    "password = 'HKBNBlowWater167!'"
   ]
  },
  {
   "cell_type": "code",
   "execution_count": 22,
   "metadata": {},
   "outputs": [],
   "source": [
    "browser.get('https://www.discuss.com.hk/logging.php?action=login')\n",
    "\n",
    "try:\n",
    "    element_present = EC.presence_of_element_located((By.NAME, 'username'))\n",
    "    WebDriverWait(browser, TIMEOUT).until(element_present)\n",
    "except TimeoutException:\n",
    "    print(\"Timed out waiting for main page to load\")\n",
    "else:\n",
    "    browser.find_element_by_name('username').send_keys(username)\n",
    "    browser.find_element_by_name('password').send_keys(password)\n",
    "    browser.find_element_by_name('loginsubmit').click()\n",
    "finally:\n",
    "    browser.get('https://www.discuss.com.hk')"
   ]
  },
  {
   "cell_type": "code",
   "execution_count": 23,
   "metadata": {},
   "outputs": [],
   "source": [
    "from selenium.common.exceptions import NoSuchElementException, ElementNotInteractableException, NoSuchAttributeException"
   ]
  },
  {
   "cell_type": "code",
   "execution_count": 24,
   "metadata": {},
   "outputs": [],
   "source": [
    "js_code = \"\"\"\n",
    "window.cookieconsent.initialise({\n",
    "        \"container\": document.getElementById(\"cc-container\"),\n",
    "        \"position\": \"bottom\",\n",
    "        \"palette\": {\n",
    "            \"popup\": {\n",
    "                \"background\": \"rgba(0, 0, 0, 0.8); text-align: center !important;\",\n",
    "            },\n",
    "            \"button\": {\n",
    "                \"background\": \"#FF7500\",\n",
    "                \"text\": \"#FFFFFF; text-decoration:none;\",\n",
    "            }\n",
    "        },\n",
    "        onPopupClose: function () {\n",
    "            if(typeof dataLayer != \"undefined\"){\n",
    "                dataLayer.push({\n",
    "                    'event' : 'cookieConsentEvent'\n",
    "                });\n",
    "            }\n",
    "        },\n",
    "        \"cookie\": {\n",
    "            \"domain\": \"uwants.com\",\n",
    "        },\n",
    "        \"content\": {\n",
    "            \"message\": 'Uwants使用Cookies來改善您的瀏覽體驗, 請確定您同意及接受我們的<a href=\"https://www.uwants.com/privacy.html\" style=\"color:white; text-decoration: underline;\" target=\"_blank\">私隱政策</a>與<a href=\"https://www.uwants.com/legal.html\" style=\"color:white; text-decoration: underline;\" target=\"_blank\">使用條款</a>才繼續瀏覽。',\n",
    "            \"dismiss\": \"知道了\",\n",
    "            \"link\": \"了解更多\"\n",
    "        },\n",
    "    });\n",
    "\"\"\"\n",
    "\n",
    "browser.execute_script(js_code)"
   ]
  },
  {
   "cell_type": "markdown",
   "metadata": {},
   "source": [
    "```javascript\n",
    "window.cookieconsent.initialise({\n",
    "                \"position\": \"bottom\",\n",
    "                \"palette\": {\n",
    "            \"popup\": {\n",
    "                \"background\": \"rgba(0, 0, 0, 0.8)\"\n",
    "            },\n",
    "            \"button\": {\n",
    "                \"background\": \"#FDBB11\"\n",
    "            }\n",
    "        },\n",
    "        onPopupClose: function () {\n",
    "            if(typeof dataLayer != \"undefined\"){\n",
    "                dataLayer.push({\n",
    "                    'event' : 'cookieConsentEvent'\n",
    "                });\n",
    "            }\n",
    "        },\n",
    "        \"cookie\": {\n",
    "            \"domain\": \"discuss.com.hk\",\n",
    "        },\n",
    "        \"content\": {\n",
    "            \"message\": '香港討論區使用Cookies來改善您的瀏覽體驗, 請確定您同意及接受我們的<a href=\"/privacy.html\" style=\"color:white; text-decoration: underline;\" target=\"_blank\">私隱政策</a>與<a href=\"/legal.html\" style=\"color:white; text-decoration: underline;\" target=\"_blank\">使用條款</a>才繼續瀏覽。',\n",
    "            \"dismiss\": \"知道了\",\n",
    "            \"link\": \"了解更多\"\n",
    "        },\n",
    "    });\n",
    "```\n",
    "\n",
    "***"
   ]
  },
  {
   "cell_type": "markdown",
   "metadata": {},
   "source": [
    "```javascript\n",
    "    window.cookieconsent.initialise({\n",
    "        \"container\": document.getElementById(\"cc-container\"),\n",
    "        \"position\": \"bottom\",\n",
    "        \"palette\": {\n",
    "            \"popup\": {\n",
    "                \"background\": \"rgba(0, 0, 0, 0.8); text-align: center !important;\",\n",
    "            },\n",
    "            \"button\": {\n",
    "                \"background\": \"#FF7500\",\n",
    "                \"text\": \"#FFFFFF; text-decoration:none;\",\n",
    "            }\n",
    "        },\n",
    "        onPopupClose: function () {\n",
    "            if(typeof dataLayer != \"undefined\"){\n",
    "                dataLayer.push({\n",
    "                    'event' : 'cookieConsentEvent'\n",
    "                });\n",
    "            }\n",
    "        },\n",
    "        \"cookie\": {\n",
    "            \"domain\": \"uwants.com\",\n",
    "        },\n",
    "        \"content\": {\n",
    "            \"message\": 'Uwants使用Cookies來改善您的瀏覽體驗, 請確定您同意及接受我們的<a href=\"https://www.uwants.com/privacy.html\" style=\"color:white; text-decoration: underline;\" target=\"_blank\">私隱政策</a>與<a href=\"https://www.uwants.com/legal.html\" style=\"color:white; text-decoration: underline;\" target=\"_blank\">使用條款</a>才繼續瀏覽。',\n",
    "            \"dismiss\": \"知道了\",\n",
    "            \"link\": \"了解更多\"\n",
    "        },\n",
    "    });\n",
    "```"
   ]
  },
  {
   "cell_type": "code",
   "execution_count": 25,
   "metadata": {},
   "outputs": [],
   "source": [
    "browser.get('https://computer.discuss.com.hk/forumdisplay.php?fid=115')\n",
    "\n",
    "post_id = 'thread_29003958'\n",
    "\n",
    "try:\n",
    "    element_present = EC.presence_of_element_located((By.CLASS_NAME, 'header-inner'))\n",
    "    WebDriverWait(browser, TIMEOUT).until(element_present)\n",
    "except TimeoutException:\n",
    "    print(\"Timed out waiting for sub-page to load\")\n",
    "    ### stop here and return self\n",
    "    #return self"
   ]
  },
  {
   "cell_type": "code",
   "execution_count": 26,
   "metadata": {},
   "outputs": [],
   "source": [
    "try:\n",
    "    link = browser.find_element_by_id(post_id).find_element_by_tag_name('a').get_attribute('href')\n",
    "    if link is None:\n",
    "        raise NoSuchAttributeException\n",
    "except NoSuchElementException:\n",
    "    print(\"Post with such post-ID was not found\")\n",
    "    ### stop here and return self\n",
    "    #return self\n",
    "except NoSuchAttributeException:\n",
    "    print(\"href attribute was not found in the tag\")\n",
    "    ### stop here and return self\n",
    "    #return self\n",
    "else:\n",
    "    browser.get(link.split('&')[0])"
   ]
  },
  {
   "cell_type": "code",
   "execution_count": 27,
   "metadata": {},
   "outputs": [],
   "source": [
    "try:\n",
    "    element_present = EC.presence_of_element_located((By.CLASS_NAME, 'start_btn_small_reply'))\n",
    "    WebDriverWait(browser, TIMEOUT).until(element_present)\n",
    "except TimeoutException:\n",
    "    print(\"Timed out waiting for post page to load\")\n",
    "else:\n",
    "    browser.find_element_by_class_name('start_btn_small_reply').click()\n",
    "    "
   ]
  },
  {
   "cell_type": "code",
   "execution_count": 30,
   "metadata": {},
   "outputs": [],
   "source": [
    "try:\n",
    "    element_present = EC.presence_of_element_located((By.ID, 'posteditor_iframe'))\n",
    "    WebDriverWait(browser, TIMEOUT).until(element_present)\n",
    "except TimeoutException:\n",
    "    print(\"Timed out waiting for reply page to load\")\n",
    "else:\n",
    "    browser.switch_to.frame(browser.find_element_by_id('posteditor_iframe'))\n",
    "    browser.find_element_by_tag_name('body').send_keys('可以問問香港寬頻')\n",
    "    browser.switch_to.default_content()"
   ]
  },
  {
   "cell_type": "code",
   "execution_count": 35,
   "metadata": {},
   "outputs": [],
   "source": [
    "browser.execute_script('window.scrollTo(0,document.body.scrollHeight/5)')"
   ]
  },
  {
   "cell_type": "code",
   "execution_count": null,
   "metadata": {},
   "outputs": [],
   "source": [
    "try:\n",
    "    element_present = EC.presence_of_element_located((By.NAME, 'replysubmit'))\n",
    "    WebDriverWait(browser, TIMEOUT).until(element_present)\n",
    "except TimeoutException:\n",
    "    print('Timed out waiting for reply button to load')\n",
    "else:\n",
    "    browser.find_element_by_name('replysubmit').click()"
   ]
  },
  {
   "cell_type": "code",
   "execution_count": null,
   "metadata": {},
   "outputs": [],
   "source": []
  }
 ],
 "metadata": {
  "kernelspec": {
   "display_name": "Python 3",
   "language": "python",
   "name": "python3"
  },
  "language_info": {
   "codemirror_mode": {
    "name": "ipython",
    "version": 3
   },
   "file_extension": ".py",
   "mimetype": "text/x-python",
   "name": "python",
   "nbconvert_exporter": "python",
   "pygments_lexer": "ipython3",
   "version": "3.8.2"
  }
 },
 "nbformat": 4,
 "nbformat_minor": 4
}
