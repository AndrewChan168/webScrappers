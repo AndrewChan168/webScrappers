{
 "cells": [
  {
   "cell_type": "code",
   "execution_count": 12,
   "metadata": {},
   "outputs": [],
   "source": [
    "from selenium import webdriver\n",
    "\n",
    "browser = webdriver.Chrome(executable_path=r\"chromedriver.exe\")\n",
    "browser.maximize_window()"
   ]
  },
  {
   "cell_type": "code",
   "execution_count": 13,
   "metadata": {},
   "outputs": [],
   "source": [
    "from selenium.webdriver.support.ui import WebDriverWait\n",
    "from selenium.webdriver.support import expected_conditions as EC\n",
    "from selenium.webdriver.common.by import By\n",
    "from selenium.common.exceptions import TimeoutException"
   ]
  },
  {
   "cell_type": "code",
   "execution_count": 14,
   "metadata": {},
   "outputs": [],
   "source": [
    "TIMEOUT = 5\n",
    "username = '廚房污濁的魚'\n",
    "password = 'HKBNBlowWater167!'"
   ]
  },
  {
   "cell_type": "code",
   "execution_count": 15,
   "metadata": {},
   "outputs": [],
   "source": [
    "browser.get('https://www.uwants.com/logging.php?action=login')\n",
    "\n",
    "try:\n",
    "    element_present = EC.presence_of_element_located((By.NAME, 'username'))\n",
    "    WebDriverWait(browser, TIMEOUT).until(element_present)\n",
    "except TimeoutException:\n",
    "    print(\"Timed out waiting for main page to load\")\n",
    "else:\n",
    "    browser.find_element_by_name('username').send_keys(username)\n",
    "    browser.find_element_by_name('password').send_keys(password)\n",
    "    browser.find_element_by_name('loginsubmit').click()\n",
    "finally:\n",
    "    browser.get('https://www.uwants.com')"
   ]
  },
  {
   "cell_type": "code",
   "execution_count": 7,
   "metadata": {},
   "outputs": [],
   "source": [
    "try:\n",
    "    element_present = EC.presence_of_element_located((By.ID, 'cc-container'))\n",
    "    WebDriverWait(browser, TIMEOUT).until(element_present)\n",
    "except TimeoutException:\n",
    "    print(\"Cookies Bar haven't appeared\")\n",
    "else:\n",
    "    cookie_bar_elements = browser.find_element_by_id('cc-container').find_elements_by_css_selector(\"*\")"
   ]
  },
  {
   "cell_type": "code",
   "execution_count": 8,
   "metadata": {},
   "outputs": [
    {
     "data": {
      "text/plain": [
       "7"
      ]
     },
     "execution_count": 8,
     "metadata": {},
     "output_type": "execute_result"
    }
   ],
   "source": [
    "len(cookie_bar_elements)"
   ]
  },
  {
   "cell_type": "code",
   "execution_count": 9,
   "metadata": {},
   "outputs": [],
   "source": [
    "if len(cookie_bar_elements) == 7:\n",
    "    cookie_bar_elements[6].click()"
   ]
  },
  {
   "cell_type": "code",
   "execution_count": 10,
   "metadata": {},
   "outputs": [],
   "source": [
    "from selenium.common.exceptions import NoSuchElementException, ElementNotInteractableException, NoSuchAttributeException"
   ]
  },
  {
   "cell_type": "code",
   "execution_count": 20,
   "metadata": {},
   "outputs": [],
   "source": [
    "browser.get('https://digital.uwants.com/forumdisplay.php?fid=681')\n",
    "\n",
    "try:\n",
    "    element_present = EC.presence_of_element_located((By.ID, 'home-top-bar-container'))\n",
    "    WebDriverWait(browser, TIMEOUT).until(element_present)\n",
    "except TimeoutException:\n",
    "    print(\"Timed out waiting for sub-page to load\")\n",
    "    ### stop here and return self\n",
    "    #return self"
   ]
  },
  {
   "cell_type": "code",
   "execution_count": 21,
   "metadata": {},
   "outputs": [],
   "source": [
    "post_id = 'thread_20131082'\n",
    "\n",
    "try:\n",
    "    link = browser.find_element_by_id(post_id).find_element_by_tag_name('a').get_attribute('href')\n",
    "    if link is None:\n",
    "        raise NoSuchAttributeException\n",
    "except NoSuchElementException:\n",
    "    print(\"Post with such post-ID was not found\")\n",
    "    ### stop here and return self\n",
    "    #return self\n",
    "except NoSuchAttributeException:\n",
    "    print(\"href attribute was not found in the tag\")\n",
    "    ### stop here and return self\n",
    "    #return self\n",
    "else:\n",
    "    browser.get(link.split('&')[0])"
   ]
  },
  {
   "cell_type": "code",
   "execution_count": 24,
   "metadata": {},
   "outputs": [],
   "source": [
    "browser.execute_script('window.scrollTo(0,document.body.scrollHeight/10)')"
   ]
  },
  {
   "cell_type": "code",
   "execution_count": 25,
   "metadata": {},
   "outputs": [],
   "source": [
    "try:\n",
    "    element_present = EC.presence_of_element_located((By.CLASS_NAME, 'postbtn'))\n",
    "    WebDriverWait(browser, TIMEOUT).until(element_present)\n",
    "except TimeoutException:\n",
    "    print(\"Timed out waiting for post page to load\")\n",
    "else:\n",
    "    #browser.find_element_by_class_name('postbtn').find_elements_by_tag_name('a')[2].click()\n",
    "    post_button = browser.find_element_by_class_name('postbtn')"
   ]
  },
  {
   "cell_type": "code",
   "execution_count": 26,
   "metadata": {},
   "outputs": [],
   "source": [
    "post_button.find_elements_by_tag_name('a')[2].click()"
   ]
  },
  {
   "cell_type": "code",
   "execution_count": 80,
   "metadata": {},
   "outputs": [],
   "source": [
    "###<div class=\"tips_close\" id=\"taguser_tips_close\">\n",
    "###<div href=\"javscript:void(0);\">\n",
    "###<img src=\"images/tag_user_tips_close@2x.png\">\n",
    "###</div>\n",
    "###</div>"
   ]
  },
  {
   "cell_type": "code",
   "execution_count": 27,
   "metadata": {},
   "outputs": [],
   "source": [
    "try:\n",
    "    element_present = EC.presence_of_element_located((By.CLASS_NAME, 'tips_close'))\n",
    "    WebDriverWait(browser, TIMEOUT).until(element_present)\n",
    "except TimeoutException:\n",
    "    print(\"Timed out waiting for post page to load\")\n",
    "else:\n",
    "    browser.find_element_by_class_name('tips_close').click()"
   ]
  },
  {
   "cell_type": "code",
   "execution_count": 28,
   "metadata": {},
   "outputs": [],
   "source": [
    "try:\n",
    "    element_present = EC.presence_of_element_located((By.ID, 'posteditor_iframe'))\n",
    "    WebDriverWait(browser, TIMEOUT).until(element_present)\n",
    "except TimeoutException:\n",
    "    print(\"Timed out waiting for reply page to load\")\n",
    "else:\n",
    "    browser.switch_to.frame(browser.find_element_by_id('posteditor_iframe'))\n",
    "    browser.find_element_by_tag_name('body').send_keys('可以問問香港寬頻SALE屎')\n",
    "    browser.switch_to.default_content()"
   ]
  },
  {
   "cell_type": "code",
   "execution_count": 31,
   "metadata": {},
   "outputs": [],
   "source": [
    "browser.execute_script('window.scrollTo(0,document.body.scrollHeight/3)')"
   ]
  },
  {
   "cell_type": "code",
   "execution_count": 32,
   "metadata": {},
   "outputs": [],
   "source": [
    "try:\n",
    "    element_present = EC.presence_of_element_located((By.NAME, 'replysubmit'))\n",
    "    WebDriverWait(browser, TIMEOUT).until(element_present)\n",
    "except TimeoutException:\n",
    "    print('Timed out waiting for reply button to load')\n",
    "else:\n",
    "    browser.find_element_by_name('replysubmit').click()"
   ]
  },
  {
   "cell_type": "code",
   "execution_count": null,
   "metadata": {},
   "outputs": [],
   "source": []
  }
 ],
 "metadata": {
  "kernelspec": {
   "display_name": "Python 3",
   "language": "python",
   "name": "python3"
  },
  "language_info": {
   "codemirror_mode": {
    "name": "ipython",
    "version": 3
   },
   "file_extension": ".py",
   "mimetype": "text/x-python",
   "name": "python",
   "nbconvert_exporter": "python",
   "pygments_lexer": "ipython3",
   "version": "3.8.2"
  }
 },
 "nbformat": 4,
 "nbformat_minor": 4
}
